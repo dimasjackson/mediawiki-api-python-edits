{
 "cells": [
  {
   "cell_type": "markdown",
   "metadata": {},
   "source": [
    "# Create Items and Properties\n",
    "\n",
    "Use the script `create_item_json.py` to create items from a JSON file like the example in `create_item.json`. To run the script, execute the following line in Terminal/CMD:\n",
    "```\n",
    "python create_item_json.py --url http://mywiki/w/api.php --bot_user user@botname --bot_password abcd123456 --json_file create_item.json\n",
    "```\n",
    "\n",
    "Supported datatypes for properties are\n",
    "* string: Represents simple text.\n",
    "* monolingual-text: Text with an associated language tag.\n",
    "* external-identifier: Identifiers that link to external databases.\n",
    "* URL: Links to web resources.\n",
    "* quantity: Numerical values, optionally with units.\n",
    "* time: Points in time, dates, or timespans.\n",
    "* globe-coordinate: Geographic coordinates.\n",
    "* wkibase-item: Links to other Wikibase items.\n",
    "* property: Links to Wikibase properties.\n",
    "* commons-media: Links to media files on Wikimedia Commons.\n",
    "* geoshape: Geospatial shapes.\n",
    "* tabular-data: Links to tabular datasets.\n",
    "* math: Mathematical expressions in LaTeX format."
   ]
  },
  {
   "cell_type": "markdown",
   "metadata": {},
   "source": [
    "# Importing JSON file statements\n",
    "The script `import_json.py` add properties to existing items in your Wikibase instance. The JSON must follow the schema in `data.json` example. To run the script, execute the following line in Terminal/CMD:\n",
    "```\n",
    "python import_json.py --url http://mywiki/w/api.php --bot_user user@botname --bot_password abcd123456 --json_file data.json\n",
    "```"
   ]
  },
  {
   "cell_type": "markdown",
   "metadata": {},
   "source": [
    "# Importing CSV statements"
   ]
  },
  {
   "cell_type": "markdown",
   "metadata": {},
   "source": [
    "Run the following script to import a CSV file with properties. The first row must be called 'label' and contain the item's labels. It is necessary to create all items in column 'label' before running the script. The other column names must be the properties that you want to add to each item.\n",
    "\n",
    "The supported datatypes are:\n",
    "\n",
    "* string (e. g. \"Krzyżacy\")\n",
    "* item (e. g. \"Universe\")\n",
    "* datetime (e. g. \"+2000-01-31T00:00:00Z\")\n",
    "    \n",
    "    **Warning**: the '+' sign is required and hour, minutes and secconds must be zero, the Wikibase property type must be 'Point in time'\n",
    "\n",
    "* quantity (e. g. 1.75)\n",
    "* coordinates (e. g. \"(40.748433,-73.985656)\")\n",
    "\n",
    "```\n",
    "python import_csv.py --url http://mywiki/w/api.php --bot_user user@botname --bot_password abcd123456 --csv_file data.csv --datatypes \"name:string;email address:string;date of birth:datetime;instance of:item;coordinates location:coordinates;weight:quantity\"\n",
    "```"
   ]
  },
  {
   "cell_type": "markdown",
   "metadata": {},
   "source": [
    "# Using Module wikibase_api"
   ]
  },
  {
   "cell_type": "code",
   "execution_count": null,
   "metadata": {},
   "outputs": [],
   "source": [
    "import wikibase_api"
   ]
  },
  {
   "cell_type": "markdown",
   "metadata": {},
   "source": [
    "### Login to Your Wikibase Instance"
   ]
  },
  {
   "cell_type": "code",
   "execution_count": null,
   "metadata": {},
   "outputs": [],
   "source": [
    "wikibase = wikibase_api.WikibaseAPI(\"http://mywiki/w/api.php\", \"User@botname\", \"<botpassword>\")"
   ]
  },
  {
   "cell_type": "markdown",
   "metadata": {},
   "source": [
    "### Create New Item"
   ]
  },
  {
   "cell_type": "code",
   "execution_count": null,
   "metadata": {},
   "outputs": [],
   "source": [
    "# Create a new item\n",
    "new_item = wikibase.create_item(\"Example Label 3\", \"Example Description\", \"en\")"
   ]
  },
  {
   "cell_type": "code",
   "execution_count": null,
   "metadata": {},
   "outputs": [],
   "source": [
    "new_item"
   ]
  },
  {
   "cell_type": "code",
   "execution_count": null,
   "metadata": {},
   "outputs": [],
   "source": [
    "item_id = new_item['entity']['id']"
   ]
  },
  {
   "cell_type": "markdown",
   "metadata": {},
   "source": [
    "### Add Statement to an Item"
   ]
  },
  {
   "cell_type": "code",
   "execution_count": null,
   "metadata": {},
   "outputs": [],
   "source": [
    "# Add a statement to the item\n",
    "wikibase.add_statement(item_id, \"P5\", \"461\", \"item\")"
   ]
  },
  {
   "cell_type": "markdown",
   "metadata": {},
   "source": [
    "### Search for Properties"
   ]
  },
  {
   "cell_type": "code",
   "execution_count": null,
   "metadata": {},
   "outputs": [],
   "source": [
    "# Search for properties\n",
    "search_results = wikibase.search_entities(\"instância\", \"property\")\n",
    "search_results"
   ]
  },
  {
   "cell_type": "markdown",
   "metadata": {},
   "source": [
    "### Search for Itens"
   ]
  },
  {
   "cell_type": "code",
   "execution_count": null,
   "metadata": {},
   "outputs": [],
   "source": [
    "# Search for entities\n",
    "search_results = wikibase.search_entities(\"TEST\")\n",
    "search_results"
   ]
  },
  {
   "cell_type": "code",
   "execution_count": null,
   "metadata": {},
   "outputs": [],
   "source": [
    "search_results['query']['search'][0]['title'][5:]"
   ]
  },
  {
   "cell_type": "code",
   "execution_count": null,
   "metadata": {},
   "outputs": [],
   "source": [
    "itemQid = search_results['query']['search'][0]['title'][5:]"
   ]
  },
  {
   "cell_type": "markdown",
   "metadata": {},
   "source": [
    "### Add String Claim"
   ]
  },
  {
   "cell_type": "code",
   "execution_count": null,
   "metadata": {},
   "outputs": [],
   "source": [
    "# Add a string statement to the item\n",
    "wikibase.add_statement(itemQid, \"P27\", '12345678901', \"string\")"
   ]
  },
  {
   "cell_type": "markdown",
   "metadata": {},
   "source": [
    "### Add an Object Property Claim (Type Item)"
   ]
  },
  {
   "cell_type": "code",
   "execution_count": null,
   "metadata": {},
   "outputs": [],
   "source": [
    "# Add an object property statement to the item\n",
    "wikibase.add_statement('Q464', \"P50\", '457', \"item\") # 457 is the Qid Q457, this line adds property P50 with value item Q457 to item Q464"
   ]
  },
  {
   "cell_type": "markdown",
   "metadata": {},
   "source": [
    "### Add Datetime Claim"
   ]
  },
  {
   "cell_type": "code",
   "execution_count": null,
   "metadata": {},
   "outputs": [],
   "source": [
    "# Warning! Only 00:00:00 hh:mm:ss is supported and the '+' sign is required! \n",
    "wikibase.add_statement(\"Q458\", \"P38\", '+2000-01-03T00:00:00Z', \"datetime\") "
   ]
  },
  {
   "cell_type": "markdown",
   "metadata": {},
   "source": [
    "### Add Global Coordinates Claim"
   ]
  },
  {
   "cell_type": "code",
   "execution_count": null,
   "metadata": {},
   "outputs": [],
   "source": [
    "wikibase.add_statement(itemQid, \"P46\", (40.748433,-73.985656), \"coordinate\") "
   ]
  },
  {
   "cell_type": "markdown",
   "metadata": {},
   "source": [
    "### Add Quantity Claim"
   ]
  },
  {
   "cell_type": "code",
   "execution_count": null,
   "metadata": {},
   "outputs": [],
   "source": [
    "add_statement = wikibase.add_statement(\"Q458\", \"P74\", 1.81, \"quantity\") \n",
    "add_statement"
   ]
  },
  {
   "cell_type": "code",
   "execution_count": null,
   "metadata": {},
   "outputs": [],
   "source": [
    "add_statement['success']"
   ]
  },
  {
   "cell_type": "markdown",
   "metadata": {},
   "source": [
    "### Use OpenSearch to Find Labels"
   ]
  },
  {
   "cell_type": "code",
   "execution_count": null,
   "metadata": {},
   "outputs": [],
   "source": [
    "ps = wikibase.opensearch('Property:P5')\n",
    "ps"
   ]
  },
  {
   "cell_type": "code",
   "execution_count": null,
   "metadata": {},
   "outputs": [],
   "source": [
    "ps[2][0][:-5]"
   ]
  },
  {
   "cell_type": "code",
   "execution_count": null,
   "metadata": {},
   "outputs": [],
   "source": [
    "wikibase.search_entities(ps[2][0],'property')"
   ]
  }
 ],
 "metadata": {
  "kernelspec": {
   "display_name": "Python 3",
   "language": "python",
   "name": "python3"
  },
  "language_info": {
   "codemirror_mode": {
    "name": "ipython",
    "version": 3
   },
   "file_extension": ".py",
   "mimetype": "text/x-python",
   "name": "python",
   "nbconvert_exporter": "python",
   "pygments_lexer": "ipython3",
   "version": "3.12.3"
  }
 },
 "nbformat": 4,
 "nbformat_minor": 2
}
